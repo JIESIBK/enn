{
  "cells": [
    {
      "cell_type": "markdown",
      "metadata": {
        "id": "KneoLFE258NW"
      },
      "source": [
        "# Run a pre-trained Epinet on ImageNet\n",
        "This demo shows how to run and evaluate a pre-trained Epinet on ImageNet. For more details about Epinet, refer to the paper \n",
        "[Epistemic Neural Networks](https://arxiv.org/abs/2107.08924) (Osband et al., 2022).\n",
        "\n",
        "It's recommended to use `Runtime-\u003eChange Runtime Type` to pick a GPU for speed."
      ]
    },
    {
      "cell_type": "code",
      "execution_count": null,
      "metadata": {
        "id": "IGU1LEXZsplN"
      },
      "outputs": [],
      "source": [
        "# Copyright 2022 DeepMind Technologies Limited. All Rights Reserved.\n",
        "#\n",
        "# Licensed under the Apache License, Version 2.0 (the \"License\");\n",
        "# you may not use this file except in compliance with the License.\n",
        "# You may obtain a copy of the License at\n",
        "#\n",
        "#     http://www.apache.org/licenses/LICENSE-2.0\n",
        "#\n",
        "# Unless required by applicable law or agreed to in writing, software\n",
        "# distributed under the License is distributed on an \"AS IS\" BASIS,\n",
        "# WITHOUT WARRANTIES OR CONDITIONS OF ANY KIND, either express or implied.\n",
        "# See the License for the specific language governing permissions and\n",
        "# limitations under the License.\n",
        "# ==============================================================================\n",
        "!git clone https://github.com/deepmind/enn.git\n",
        "!pip install -q enn/"
      ]
    },
    {
      "cell_type": "markdown",
      "metadata": {
        "id": "sV8NEOiudvoZ"
      },
      "source": [
        "## Imports"
      ]
    },
    {
      "cell_type": "code",
      "execution_count": null,
      "metadata": {
        "cellView": "form",
        "id": "qXOubWdlH9C0"
      },
      "outputs": [],
      "source": [
        "#@title General imports\n",
        "\n",
        "import warnings\n",
        "\n",
        "warnings.filterwarnings('ignore')\n",
        "\n",
        "\n",
        "#@title Development imports\n",
        "from typing import Callable, NamedTuple\n",
        "\n",
        "import numpy as np\n",
        "import pandas as pd\n",
        "import plotnine as gg\n",
        "\n",
        "from acme.utils.loggers.terminal import TerminalLogger\n",
        "import dataclasses\n",
        "import chex\n",
        "import haiku as hk\n",
        "import jax\n",
        "import jax.numpy as jnp\n",
        "import optax\n",
        "import dill"
      ]
    },
    {
      "cell_type": "code",
      "execution_count": null,
      "metadata": {
        "cellView": "form",
        "id": "EoyK1tD9Vjvo"
      },
      "outputs": [],
      "source": [
        "#@title ENN imports\n",
        "import enn\n",
        "from enn import datasets\n",
        "from enn.checkpoints import base as checkpoint_base\n",
        "from enn.networks.epinet import base as epinet_base\n",
        "from enn.checkpoints import utils\n",
        "from enn.checkpoints import imagenet\n",
        "from enn.checkpoints import catalog\n",
        "from enn import metrics as enn_metrics"
      ]
    },
    {
      "cell_type": "markdown",
      "metadata": {
        "id": "gbswxUJc8fuA"
      },
      "source": [
        "## Load ImageNet dataset\n",
        "\n",
        "Our `enn` library provides functionalities in `enn/datasets` to load ImageNet, CIFAR10/100, and MNIST datasets. To load these datasets, you need to download that dataset into the default tensorflow dataset directory of `~/tensorflow_datasets/downloads/manual/`. \n",
        "\n",
        "In this colab, we want to evaluate Epinet on only one small batch of ImageNet test images. To this end, we provide a sample batch of size 100 at [https://storage.googleapis.com/dm-enn/processed_batch.npzs](https://storage.googleapis.com/dm-enn/processed_batch.npzs) which can be download as follows."
      ]
    },
    {
      "cell_type": "code",
      "execution_count": null,
      "metadata": {
        "id": "0w5B1HVEto-P"
      },
      "outputs": [],
      "source": [
        "!wget https://storage.googleapis.com/dm-enn/processed_batch.npzs --no-check-certificate\n",
        "with open('processed_batch.npzs', 'rb') as file:\n",
        "  batch = dill.load(file)\n",
        "images, labels = batch['images'], batch['labels']"
      ]
    },
    {
      "cell_type": "markdown",
      "metadata": {
        "id": "Fi3IzBqoSGkK"
      },
      "source": [
        "## Define a set of evaluation metrics\n",
        "\n",
        "Our `enn` library provides the set of known metrics for evaluating the performance of neural networks. These metrics which can be access from `enn/metrics` can be divided in three categories:\n",
        "\n",
        "\n",
        "1.   **Marginal**: includes metrics like accuracy and marginal negative log-likelihood (NLL) for evaluating marginal predictions.\n",
        "2.   **Joint**: includes metrics for evaluating joint predictions. \n",
        "3.   **Calibration**: includes metrics for calculating calibration error.\n",
        "\n",
        "Each metric takes logits and lables with the following shapes:\n",
        "  - logits: [num_enn_samples, batch_size, num_classes]\n",
        "  - labels: [batch_size, 1]\n",
        "\n",
        "`num_enn_samples` specifies the number of sample logits per input image.\n"
      ]
    },
    {
      "cell_type": "code",
      "execution_count": 10,
      "metadata": {
        "executionInfo": {
          "elapsed": 57,
          "status": "ok",
          "timestamp": 1653091636480,
          "user": {
            "displayName": "",
            "userId": ""
          },
          "user_tz": 420
        },
        "id": "gaoht3UJJb2m"
      },
      "outputs": [],
      "source": [
        "# Define a dict of metrics including `accuracy`, `marginal nll`, and `joint nll`.\n",
        "evaluation_metrics = {\n",
        "      'accuracy': enn_metrics.make_accuracy_calculator(),\n",
        "      'marginal nll': enn_metrics.make_nll_marginal_calculator(),\n",
        "      'joint nll': enn_metrics.make_nll_polyadic_calculator(tau=10, kappa=2),\n",
        "  }"
      ]
    },
    {
      "cell_type": "markdown",
      "metadata": {
        "id": "zB26yDlmHxvj"
      },
      "source": [
        "## Load pre-trained Epinet\n",
        "\n",
        "Pre-trained Epinet can be accessed from `ImagenetModels` in `enn.checkpointing.catalog.py`. As of now, we provide pre-trained Epinet based on ResNet-50, ResNet-101, ResNet-152, and ResNet-200. In this colab, we want to load Epinet based on ResNet-50 which can be accessed from the checkpoint `RESNET_50_FINAL_EPINET`."
      ]
    },
    {
      "cell_type": "code",
      "execution_count": 11,
      "metadata": {
        "executionInfo": {
          "elapsed": 56,
          "status": "ok",
          "timestamp": 1653091637775,
          "user": {
            "displayName": "",
            "userId": ""
          },
          "user_tz": 420
        },
        "id": "AMA2Stmjm_6O",
        "outputId": "7953319d-cee5-449f-c3cf-95aa4d9cede2"
      },
      "outputs": [
        {
          "data": {
            "text/plain": [
              "EpinetCheckpoint(name='imagenet_final_epinet_resnet50', load_fn=\u003cfunction load_from_file.\u003clocals\u003e.load_fn at 0x7fa8e16888b0\u003e, epinet_ctor=\u003cfunction make_checkpoint_from_config.\u003clocals\u003e.\u003clambda\u003e at 0x7fa8e1688b80\u003e, parse_hidden=\u003cfunction parse_base_hidden at 0x7fa8e16ddd30\u003e, base_cpt=EnnCheckpoint(name='imagenet_resnet50', load_fn=\u003cfunction load_from_file.\u003clocals\u003e.load_fn at 0x7fa8e1688940\u003e, enn_ctor=\u003cfunction _make_resnet_ctor.\u003clocals\u003e.enn_ctor at 0x7fa8e16889d0\u003e, dataset=Imagenet(train_ds_transformer=\u003cfunction Imagenet.\u003clambda\u003e at 0x7fa8e2f4ae50\u003e, eval_ds_transformers={'eval': \u003cfunction \u003clambda\u003e.\u003clocals\u003e.\u003clambda\u003e at 0x7fa8e1688a60\u003e}, train_batch=128, eval_batch=100, dataset_seed=0, enable_double_transpose=True, fake_data=False, num_train=1281167), report_cl=None), base_index=None, base_scale=1.0, dataset=None, report_cl=None)"
            ]
          },
          "execution_count": 11,
          "metadata": {},
          "output_type": "execute_result"
        }
      ],
      "source": [
        "# Get the Epinet checkpoint\n",
        "epinet_resnet50_imagenet_ckpt = catalog.ImagenetModels.RESNET_50_FINAL_EPINET.value\n",
        "epinet_resnet50_imagenet_ckpt"
      ]
    },
    {
      "cell_type": "markdown",
      "metadata": {
        "id": "F0B8ytqQJFAN"
      },
      "source": [
        "From the checkpoint, we can recover an enn sampler, which is a function that takes a batch of images and one random key, and returns multiple sample logits per input image. To recover the enn sampler, we can use `make_epinet_sampler_from_checkpoint` (from `enn/checkpoints/utils.py`) which takes the checkpoint and also the number of sample logits we want per image (`num_enn_samples`)."
      ]
    },
    {
      "cell_type": "code",
      "execution_count": null,
      "metadata": {
        "id": "JCcrOudvI_t_"
      },
      "outputs": [],
      "source": [
        "# Set the number of sample logits per input image\n",
        "num_enn_samples = 100\n",
        "# Recover the enn sampler\n",
        "epinet_enn_sampler = utils.make_epinet_sampler_from_checkpoint(\n",
        "    epinet_resnet50_imagenet_ckpt,\n",
        "    num_enn_samples=num_enn_samples,)\n",
        "# Get the epinet logits\n",
        "key = jax.random.PRNGKey(seed=0)\n",
        "epinet_logits = epinet_enn_sampler(images, key)"
      ]
    },
    {
      "cell_type": "code",
      "execution_count": 13,
      "metadata": {
        "executionInfo": {
          "elapsed": 55,
          "status": "ok",
          "timestamp": 1653091765652,
          "user": {
            "displayName": "",
            "userId": ""
          },
          "user_tz": 420
        },
        "id": "67UZuK97Ri-W",
        "outputId": "fc4cff74-1bc6-4b3b-e4b7-0de91e6a6634"
      },
      "outputs": [
        {
          "data": {
            "text/plain": [
              "(100, 100, 1000)"
            ]
          },
          "execution_count": 13,
          "metadata": {},
          "output_type": "execute_result"
        }
      ],
      "source": [
        "# epinet logits has shape [num_enn_sample, eval_batch_size, num_classes]\n",
        "epinet_logits.shape"
      ]
    },
    {
      "cell_type": "code",
      "execution_count": 14,
      "metadata": {
        "executionInfo": {
          "elapsed": 1657,
          "status": "ok",
          "timestamp": 1653091781146,
          "user": {
            "displayName": "",
            "userId": ""
          },
          "user_tz": 420
        },
        "id": "Ja9bC0Q7UVkM",
        "outputId": "999d7c55-c36c-4db6-f216-f93b44b85095"
      },
      "outputs": [
        {
          "data": {
            "text/plain": [
              "{'accuracy': 0.8399999737739563,\n",
              " 'joint nll': 4.873429298400879,\n",
              " 'marginal nll': 0.8164562582969666}"
            ]
          },
          "execution_count": 14,
          "metadata": {},
          "output_type": "execute_result"
        }
      ],
      "source": [
        "# Labels loaded from our dataset has shape [eval_batch_size,]. Our evaluation\n",
        "# metrics requires labels to have shape [eval_batch_size, 1].\n",
        "eval_labels = labels[:, None]\n",
        "# Evaluate \n",
        "epinet_results = {key: float(metric(epinet_logits, eval_labels)) \n",
        "                      for key, metric in evaluation_metrics.items()}\n",
        "epinet_results"
      ]
    },
    {
      "cell_type": "markdown",
      "metadata": {
        "id": "LnY-iLAkW_u4"
      },
      "source": [
        "## Load pre-trained ResNet\n",
        "\n",
        "To have a better sense of how amazing Epinet is, we can compare its performance with a pretrained ResNet-50.\n",
        "\n",
        "Pre-trained ResNets can be accessed from `ImagenetModels` in `enn.checkpointing.catalog.py`. As of now, we provide pre-trained ResNet-50, ResNet-101, ResNet-152, and ResNet-200. "
      ]
    },
    {
      "cell_type": "code",
      "execution_count": 15,
      "metadata": {
        "executionInfo": {
          "elapsed": 56,
          "status": "ok",
          "timestamp": 1653091788040,
          "user": {
            "displayName": "",
            "userId": ""
          },
          "user_tz": 420
        },
        "id": "ocO9OQv4HIxn",
        "outputId": "e3509c7b-91c2-48ae-c43d-cf119bf4333f"
      },
      "outputs": [
        {
          "data": {
            "text/plain": [
              "EnnCheckpoint(name='imagenet_resnet50', load_fn=\u003cfunction load_from_file.\u003clocals\u003e.load_fn at 0x7fa8e16885e0\u003e, enn_ctor=\u003cfunction _make_resnet_ctor.\u003clocals\u003e.enn_ctor at 0x7fa8e1688280\u003e, dataset=Imagenet(train_ds_transformer=\u003cfunction Imagenet.\u003clambda\u003e at 0x7fa8e2f4ae50\u003e, eval_ds_transformers={'eval': \u003cfunction \u003clambda\u003e.\u003clocals\u003e.\u003clambda\u003e at 0x7fa8e1688310\u003e}, train_batch=128, eval_batch=100, dataset_seed=0, enable_double_transpose=True, fake_data=False, num_train=1281167), report_cl=None)"
            ]
          },
          "execution_count": 15,
          "metadata": {},
          "output_type": "execute_result"
        }
      ],
      "source": [
        "# Get the ResNet-50 checkpoint\n",
        "resnet50_imagenet_ckpt = catalog.ImagenetModels.RESNET_50.value\n",
        "resnet50_imagenet_ckpt"
      ]
    },
    {
      "cell_type": "markdown",
      "metadata": {
        "id": "1sSq3q9ZXzy-"
      },
      "source": [
        "From the checkpoint, we can recover an enn sampler, which is a function that takes a batch of images and one random key, and returns multiple sample logits per input image. To recover the enn sampler for ResNet-50, we can use `make_enn_sampler_from_checkpoint` (from `enn/checkpoints/utils.py`) which takes the checkpoint and also the number of sample logits we want per image (`num_enn_samples`)."
      ]
    },
    {
      "cell_type": "code",
      "execution_count": 16,
      "metadata": {
        "executionInfo": {
          "elapsed": 18140,
          "status": "ok",
          "timestamp": 1653091807514,
          "user": {
            "displayName": "",
            "userId": ""
          },
          "user_tz": 420
        },
        "id": "NixEickNXzFE"
      },
      "outputs": [],
      "source": [
        "# Set the number of sample logits per input image to be 100 as we used for epinet\n",
        "num_enn_samples = 100\n",
        "# Recover the enn sampler\n",
        "resnet50_enn_sampler = utils.make_enn_sampler_from_checkpoint(\n",
        "    resnet50_imagenet_ckpt,\n",
        "    num_enn_samples=num_enn_samples,)\n",
        "# Get the epinet logits\n",
        "key = jax.random.PRNGKey(seed=0)\n",
        "resnet50_logits = resnet50_enn_sampler(images, key)"
      ]
    },
    {
      "cell_type": "code",
      "execution_count": 17,
      "metadata": {
        "executionInfo": {
          "elapsed": 57,
          "status": "ok",
          "timestamp": 1653091811006,
          "user": {
            "displayName": "",
            "userId": ""
          },
          "user_tz": 420
        },
        "id": "9PNNqG4aY2cl",
        "outputId": "180ae39e-4bb2-45a7-a2aa-0ca517a74865"
      },
      "outputs": [
        {
          "data": {
            "text/plain": [
              "(100, 100, 1000)"
            ]
          },
          "execution_count": 17,
          "metadata": {},
          "output_type": "execute_result"
        }
      ],
      "source": [
        "# ResNet logits has shape [num_enn_sample, eval_batch_size, num_classes]\n",
        "resnet50_logits.shape"
      ]
    },
    {
      "cell_type": "code",
      "execution_count": 18,
      "metadata": {
        "executionInfo": {
          "elapsed": 60,
          "status": "ok",
          "timestamp": 1653091812533,
          "user": {
            "displayName": "",
            "userId": ""
          },
          "user_tz": 420
        },
        "id": "rUb2u94_Y90P",
        "outputId": "5b3192b8-1503-40b1-cc00-1e7123f2490c"
      },
      "outputs": [
        {
          "data": {
            "text/plain": [
              "{'accuracy': 0.8399999737739563,\n",
              " 'joint nll': 8.02357292175293,\n",
              " 'marginal nll': 0.7877806425094604}"
            ]
          },
          "execution_count": 18,
          "metadata": {},
          "output_type": "execute_result"
        }
      ],
      "source": [
        "# Labels loaded from our dataset has shape [eval_batch_size,]. Our evaluation\n",
        "# metrics requires labels to have shape [eval_batch_size, 1].\n",
        "eval_labels = labels[:, None]\n",
        "# Evaluate \n",
        "resnet50_results = {key: float(metric(resnet50_logits, eval_labels)) \n",
        "                      for key, metric in evaluation_metrics.items()}\n",
        "resnet50_results"
      ]
    },
    {
      "cell_type": "markdown",
      "metadata": {
        "id": "bFhzjoYCawiY"
      },
      "source": [
        "## Compare Epinet and ResNet results"
      ]
    },
    {
      "cell_type": "code",
      "execution_count": 19,
      "metadata": {
        "colab": {
          "height": 112
        },
        "executionInfo": {
          "elapsed": 58,
          "status": "ok",
          "timestamp": 1653091814410,
          "user": {
            "displayName": "",
            "userId": ""
          },
          "user_tz": 420
        },
        "id": "gMvIsE4aa3Ex",
        "outputId": "aeba8ea9-272f-4b38-cd35-8fe60d799e9d"
      },
      "outputs": [
        {
          "data": {
            "text/html": [
              "\n",
              "  \u003cdiv id=\"df-528001f6-bdbf-4e82-b869-dcef1186c977\"\u003e\n",
              "    \u003cdiv class=\"colab-df-container\"\u003e\n",
              "      \u003cdiv\u003e\n",
              "\u003cstyle scoped\u003e\n",
              "    .dataframe tbody tr th:only-of-type {\n",
              "        vertical-align: middle;\n",
              "    }\n",
              "\n",
              "    .dataframe tbody tr th {\n",
              "        vertical-align: top;\n",
              "    }\n",
              "\n",
              "    .dataframe thead th {\n",
              "        text-align: right;\n",
              "    }\n",
              "\u003c/style\u003e\n",
              "\u003ctable border=\"1\" class=\"dataframe\"\u003e\n",
              "  \u003cthead\u003e\n",
              "    \u003ctr style=\"text-align: right;\"\u003e\n",
              "      \u003cth\u003e\u003c/th\u003e\n",
              "      \u003cth\u003eaccuracy\u003c/th\u003e\n",
              "      \u003cth\u003emarginal nll\u003c/th\u003e\n",
              "      \u003cth\u003ejoint nll\u003c/th\u003e\n",
              "      \u003cth\u003emodel\u003c/th\u003e\n",
              "    \u003c/tr\u003e\n",
              "  \u003c/thead\u003e\n",
              "  \u003ctbody\u003e\n",
              "    \u003ctr\u003e\n",
              "      \u003cth\u003e0\u003c/th\u003e\n",
              "      \u003ctd\u003e0.84\u003c/td\u003e\n",
              "      \u003ctd\u003e0.787781\u003c/td\u003e\n",
              "      \u003ctd\u003e8.023573\u003c/td\u003e\n",
              "      \u003ctd\u003eresnet\u003c/td\u003e\n",
              "    \u003c/tr\u003e\n",
              "    \u003ctr\u003e\n",
              "      \u003cth\u003e1\u003c/th\u003e\n",
              "      \u003ctd\u003e0.84\u003c/td\u003e\n",
              "      \u003ctd\u003e0.816456\u003c/td\u003e\n",
              "      \u003ctd\u003e4.873429\u003c/td\u003e\n",
              "      \u003ctd\u003eepinet\u003c/td\u003e\n",
              "    \u003c/tr\u003e\n",
              "  \u003c/tbody\u003e\n",
              "\u003c/table\u003e\n",
              "\u003c/div\u003e\n",
              "      \u003cbutton class=\"colab-df-convert\" onclick=\"convertToInteractive('df-528001f6-bdbf-4e82-b869-dcef1186c977')\"\n",
              "              title=\"Convert this dataframe to an interactive table.\"\n",
              "              style=\"display:none;\"\u003e\n",
              "        \n",
              "  \u003csvg xmlns=\"http://www.w3.org/2000/svg\" height=\"24px\"viewBox=\"0 0 24 24\"\n",
              "       width=\"24px\"\u003e\n",
              "    \u003cpath d=\"M0 0h24v24H0V0z\" fill=\"none\"/\u003e\n",
              "    \u003cpath d=\"M18.56 5.44l.94 2.06.94-2.06 2.06-.94-2.06-.94-.94-2.06-.94 2.06-2.06.94zm-11 1L8.5 8.5l.94-2.06 2.06-.94-2.06-.94L8.5 2.5l-.94 2.06-2.06.94zm10 10l.94 2.06.94-2.06 2.06-.94-2.06-.94-.94-2.06-.94 2.06-2.06.94z\"/\u003e\u003cpath d=\"M17.41 7.96l-1.37-1.37c-.4-.4-.92-.59-1.43-.59-.52 0-1.04.2-1.43.59L10.3 9.45l-7.72 7.72c-.78.78-.78 2.05 0 2.83L4 21.41c.39.39.9.59 1.41.59.51 0 1.02-.2 1.41-.59l7.78-7.78 2.81-2.81c.8-.78.8-2.07 0-2.86zM5.41 20L4 18.59l7.72-7.72 1.47 1.35L5.41 20z\"/\u003e\n",
              "  \u003c/svg\u003e\n",
              "      \u003c/button\u003e\n",
              "      \n",
              "  \u003cstyle\u003e\n",
              "    .colab-df-container {\n",
              "      display:flex;\n",
              "      flex-wrap:wrap;\n",
              "      gap: 12px;\n",
              "    }\n",
              "\n",
              "    .colab-df-convert {\n",
              "      background-color: #E8F0FE;\n",
              "      border: none;\n",
              "      border-radius: 50%;\n",
              "      cursor: pointer;\n",
              "      display: none;\n",
              "      fill: #1967D2;\n",
              "      height: 32px;\n",
              "      padding: 0 0 0 0;\n",
              "      width: 32px;\n",
              "    }\n",
              "\n",
              "    .colab-df-convert:hover {\n",
              "      background-color: #E2EBFA;\n",
              "      box-shadow: 0px 1px 2px rgba(60, 64, 67, 0.3), 0px 1px 3px 1px rgba(60, 64, 67, 0.15);\n",
              "      fill: #174EA6;\n",
              "    }\n",
              "\n",
              "    [theme=dark] .colab-df-convert {\n",
              "      background-color: #3B4455;\n",
              "      fill: #D2E3FC;\n",
              "    }\n",
              "\n",
              "    [theme=dark] .colab-df-convert:hover {\n",
              "      background-color: #434B5C;\n",
              "      box-shadow: 0px 1px 3px 1px rgba(0, 0, 0, 0.15);\n",
              "      filter: drop-shadow(0px 1px 2px rgba(0, 0, 0, 0.3));\n",
              "      fill: #FFFFFF;\n",
              "    }\n",
              "  \u003c/style\u003e\n",
              "\n",
              "      \u003cscript\u003e\n",
              "        const buttonEl =\n",
              "          document.querySelector('#df-528001f6-bdbf-4e82-b869-dcef1186c977 button.colab-df-convert');\n",
              "        buttonEl.style.display =\n",
              "          google.colab.kernel.accessAllowed ? 'block' : 'none';\n",
              "\n",
              "        async function convertToInteractive(key) {\n",
              "          const element = document.querySelector('#df-528001f6-bdbf-4e82-b869-dcef1186c977');\n",
              "          const dataTable =\n",
              "            await google.colab.kernel.invokeFunction('convertToInteractive',\n",
              "                                                     [key], {});\n",
              "          if (!dataTable) return;\n",
              "\n",
              "          const docLinkHtml = 'Like what you see? Visit the ' +\n",
              "            '\u003ca target=\"_blank\" href=https://colab.research.google.com/notebooks/data_table.ipynb\u003edata table notebook\u003c/a\u003e'\n",
              "            + ' to learn more about interactive tables.';\n",
              "          element.innerHTML = '';\n",
              "          dataTable['output_type'] = 'display_data';\n",
              "          await google.colab.output.renderOutput(dataTable, element);\n",
              "          const docLink = document.createElement('div');\n",
              "          docLink.innerHTML = docLinkHtml;\n",
              "          element.appendChild(docLink);\n",
              "        }\n",
              "      \u003c/script\u003e\n",
              "    \u003c/div\u003e\n",
              "  \u003c/div\u003e\n",
              "  "
            ],
            "text/plain": [
              "   accuracy  marginal nll  joint nll   model\n",
              "0      0.84      0.787781   8.023573  resnet\n",
              "1      0.84      0.816456   4.873429  epinet"
            ]
          },
          "execution_count": 19,
          "metadata": {},
          "output_type": "execute_result"
        }
      ],
      "source": [
        "# Make a dataframe of the results\n",
        "resnet50_results['model'] = 'resnet'\n",
        "epinet_results['model'] = 'epinet'\n",
        "df = pd.DataFrame([resnet50_results, epinet_results])\n",
        "df"
      ]
    },
    {
      "cell_type": "code",
      "execution_count": 20,
      "metadata": {
        "colab": {
          "height": 422
        },
        "executionInfo": {
          "elapsed": 629,
          "status": "ok",
          "timestamp": 1653091818321,
          "user": {
            "displayName": "",
            "userId": ""
          },
          "user_tz": 420
        },
        "id": "kucVaz3Ya9h6",
        "outputId": "e6358272-bd25-4031-a0a9-0bc57154cbff"
      },
      "outputs": [
        {
          "data": {
            "image/png": "[encoded data removed]",
            "text/plain": [
              "\u003cFigure size 1400x400 with 3 Axes\u003e"
            ]
          },
          "metadata": {},
          "output_type": "display_data"
        },
        {
          "data": {
            "text/plain": [
              "\u003cggplot: (8772659970042)\u003e"
            ]
          },
          "execution_count": 20,
          "metadata": {},
          "output_type": "execute_result"
        }
      ],
      "source": [
        "# Compare the results\n",
        "plt_df = pd.melt(df, id_vars=['model'], value_vars=evaluation_metrics.keys())\n",
        "p = (gg.ggplot(plt_df)\n",
        "    + gg.aes(x='model', y='value', fill='model') \n",
        "    + gg.geom_col()\n",
        "    + gg.facet_wrap('variable', scales='free',)\n",
        "    + gg.theme(figure_size=(14, 4), panel_spacing=0.7)\n",
        "    )\n",
        "p"
      ]
    }
  ],
  "metadata": {
    "colab": {
      "collapsed_sections": [],
      "name": "epinet_demo.ipynb",
      "provenance": []
    },
    "kernelspec": {
      "display_name": "Python 3",
      "name": "python3"
    },
    "language_info": {
      "name": "python"
    }
  },
  "nbformat": 4,
  "nbformat_minor": 0
}
